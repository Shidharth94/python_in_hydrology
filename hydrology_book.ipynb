{
  "nbformat": 4,
  "nbformat_minor": 0,
  "metadata": {
    "colab": {
      "provenance": [],
      "collapsed_sections": [],
      "authorship_tag": "ABX9TyOA9ZknSheTCdhJ3gnrnvLg",
      "include_colab_link": true
    },
    "kernelspec": {
      "name": "python3",
      "display_name": "Python 3"
    },
    "language_info": {
      "name": "python"
    }
  },
  "cells": [
    {
      "cell_type": "markdown",
      "metadata": {
        "id": "view-in-github",
        "colab_type": "text"
      },
      "source": [
        "<a href=\"https://colab.research.google.com/github/Shidharth94/python_in_hydrology/blob/main/hydrology_book.ipynb\" target=\"_parent\"><img src=\"https://colab.research.google.com/assets/colab-badge.svg\" alt=\"Open In Colab\"/></a>"
      ]
    },
    {
      "cell_type": "markdown",
      "source": [
        "**<h1>About Google Colab</h1>**\n",
        "\n",
        "\n",
        "Colab, or \"Colaboratory\", allows you to write and execute Python in your browser, with \n",
        "- Zero configuration required\n",
        "- Access to GPUs free of charge\n",
        "- Easy sharing\n",
        "\n",
        "Whether you're a **student**, a **data scientist** or an **AI researcher**, Colab can make your work easier. Watch [Introduction to Colab](https://www.youtube.com/watch?v=inN8seMm7UI) to learn more.\n"
      ],
      "metadata": {
        "id": "dle1EljXt_Fj"
      }
    },
    {
      "cell_type": "markdown",
      "source": [
        "**<h1>Intro to Python</h1>**"
      ],
      "metadata": {
        "id": "ea75kRsKrNSB"
      }
    }
  ]
}