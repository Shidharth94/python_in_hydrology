{
  "nbformat": 4,
  "nbformat_minor": 0,
  "metadata": {
    "colab": {
      "provenance": [],
      "collapsed_sections": [],
      "authorship_tag": "ABX9TyMMorSYqXYL16yi2RTIGpW4"
    },
    "kernelspec": {
      "name": "python3",
      "display_name": "Python 3"
    },
    "language_info": {
      "name": "python"
    }
  },
  "cells": [
    {
      "cell_type": "markdown",
      "source": [
        "[![open in colab](https://colab.research.google.com/assets/colab-badge.svg)](https://colab.research.google.com/drive/1tkFld9ne9ppaiXAAHMWntYrgNTeIn8ZZ?usp=sharing)\n",
        "\n",
        "**<h1>About Google Colab</h1>** \n",
        "\n",
        "Colab, or \"Colaboratory\", allows you to write and execute Python in your browser, with \n",
        "- Zero configuration required\n",
        "- Access to GPUs free of charge\n",
        "- Easy sharing\n",
        "\n",
        "Whether you're a **student**, a **data scientist** or an **AI researcher**, Colab can make your work easier. Watch [Introduction to Colab](https://www.youtube.com/watch?v=inN8seMm7UI) to learn more.\n",
        "\n",
        "p.s. : The above details are taken directly from the official google colab documentation.\n",
        "\n",
        "this is a test logo\n",
        "\n",
        "<img src = \"https://drive.google.com/uc?id=1I_X3bTrwKLIFax1pj6nftUaD34rh38r1\" width = 200>"
      ],
      "metadata": {
        "id": "dle1EljXt_Fj"
      }
    },
    {
      "cell_type": "markdown",
      "source": [
        "**<h1>Intro to Python</h1>**\n",
        "\n"
      ],
      "metadata": {
        "id": "ea75kRsKrNSB"
      }
    }
  ]
}